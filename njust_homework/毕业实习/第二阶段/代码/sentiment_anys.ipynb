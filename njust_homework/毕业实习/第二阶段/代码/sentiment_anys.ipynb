{
 "cells": [
  {
   "cell_type": "markdown",
   "metadata": {
    "collapsed": true,
    "pycharm": {
     "name": "#%% md\n"
    }
   },
   "source": [
    "1. 对于数据集中每个句子，进行一次分词，得到数据格式 `情绪类别` `句子的词序列` `句子`\n",
    "2. 对于每一种情绪，把训练集中的所有数据进行处理，得到一个data{key,value}的序列，其中key为句子中的不重复的词，value为该词在所有推文中出现的次数，计算data{key,value}序列每个词的先验$$P(w_i|c_j) = \\frac{data\\{w_i\\}+1}{\\sum_{q=1}^n data\\{w_q\\}+n}$$"
   ]
  },
  {
   "cell_type": "markdown",
   "source": [
    "首先读取数据 返回两个列表 label,sentence 列表中一一对应\n",
    "\n",
    "**label sentences**"
   ],
   "metadata": {
    "collapsed": false,
    "pycharm": {
     "name": "#%% md\n"
    }
   }
  },
  {
   "cell_type": "code",
   "execution_count": 1,
   "outputs": [],
   "source": [
    "import math\n",
    "import os.path\n",
    "import random\n",
    "\n",
    "import pandas as pd\n",
    "\n",
    "filename = os.path.join(os.getcwd(), \"sentiment_data/simplifyweibo_4_moods.csv\")\n",
    "with open(filename, \"r\", encoding=\"utf8\") as f:\n",
    "    csvData = pd.read_csv(f)\n",
    "    csvKeys = csvData.keys()\n",
    "    label = list(csvData.get(csvKeys[0]))\n",
    "    sentences = list(csvData.get(csvKeys[1]))\n",
    "\n",
    "allData = [{'label': str(label[i]).strip(), 'sentence': str(sentences[i]).strip()} for i in range(len(label))]\n",
    "# 对allData随机洗牌\n",
    "random.shuffle(allData)\n",
    "# 抽取测试集、训练集出来\n",
    "transData = allData[:int(len(allData) * 0.95)]\n",
    "testData = allData[len(transData):]\n",
    "# 训练集合\n",
    "label = [i['label'] for i in transData]\n",
    "sentences = [i['sentence'] for i in transData]\n",
    "\n",
    "# 对读出来的数据进行拆分"
   ],
   "metadata": {
    "collapsed": false,
    "pycharm": {
     "name": "#%%\n"
    }
   }
  },
  {
   "cell_type": "markdown",
   "source": [
    "然后 分词工具分词\n",
    "**words**"
   ],
   "metadata": {
    "collapsed": false
   }
  },
  {
   "cell_type": "code",
   "execution_count": 2,
   "outputs": [
    {
     "name": "stderr",
     "output_type": "stream",
     "text": [
      "Building prefix dict from the default dictionary ...\n",
      "Loading model from cache /var/folders/k9/8l5wkt157713f72dthyknqn00000gn/T/jieba.cache\n",
      "Loading model cost 0.673 seconds.\n",
      "Prefix dict has been built successfully.\n"
     ]
    }
   ],
   "source": [
    "import jieba\n",
    "import jieba.posseg as pseg\n",
    "from ltp import LTP\n",
    "\n",
    "ltp = LTP()\n",
    "\n",
    "\n",
    "def get_jieba_word(s):\n",
    "    cnt = 0\n",
    "    for i in s:\n",
    "        # cnt += 1\n",
    "        # if cnt % 100 == 0:\n",
    "        #     print(cnt)\n",
    "        # seg, hidden = ltp.seg([str(i)])\n",
    "        # yield seg[0]\n",
    "        # jieba\n",
    "        yield jieba.lcut(str(i), use_paddle=True)\n",
    "        # 下面这个会返回词性\n",
    "        # yield pseg.lcut(str(i), use_paddle=True)\n",
    "\n",
    "\n",
    "# 分词\n",
    "words = list(get_jieba_word(sentences))\n"
   ],
   "metadata": {
    "collapsed": false,
    "pycharm": {
     "name": "#%%\n"
    }
   }
  },
  {
   "cell_type": "markdown",
   "source": [
    "然后开始统计词\n",
    "**dataSet**"
   ],
   "metadata": {
    "collapsed": false
   }
  },
  {
   "cell_type": "code",
   "execution_count": 3,
   "outputs": [],
   "source": [
    "dataSet = {'0': {'keys': {}, 'count': 0, 'key_num': 0}, '1': {'keys': {}, 'count': 0, 'key_num': 0},\n",
    "           '2': {'keys': {}, 'count': 0, 'key_num': 0}, '3': {'keys': {}, 'count': 0, 'key_num': 0}}\n",
    "for i in range(len(label)):\n",
    "    tmpData: dict = dataSet[label[i]]\n",
    "    tmpWordList = words[i]\n",
    "    for val in tmpWordList:\n",
    "        if tmpData['keys'].__contains__(val):\n",
    "            tmpData['keys'][val] += 1\n",
    "        else:\n",
    "            tmpData['keys'][val] = 1"
   ],
   "metadata": {
    "collapsed": false,
    "pycharm": {
     "name": "#%%\n"
    }
   }
  },
  {
   "cell_type": "markdown",
   "source": [
    "处理停用词 去掉**dataSet**中的停用词\n",
    "\n",
    "**stopWords** 删除停用词并统计后的**dataSet**"
   ],
   "metadata": {
    "collapsed": false
   }
  },
  {
   "cell_type": "code",
   "execution_count": 4,
   "outputs": [],
   "source": [
    "# 读取停用词\n",
    "# with open(os.path.join(os.getcwd(), \"stop_words.txt\"), \"r\", encoding=\"utf8\") as f:\n",
    "#     stopWords = f.readlines()\n",
    "#     stopWords = [str(i).strip() for i in stopWords]\n",
    "\n",
    "# 读取情感词\n",
    "with open(os.path.join(os.getcwd(), \"sentiment_words.txt\"), \"r\", encoding=\"utf8\") as f:\n",
    "    sentimentWords = f.readlines()\n",
    "    sentimentWords = [str(i).strip() for i in sentimentWords]\n",
    "\n",
    "# 删除集合中的停用词\n",
    "for key in dataSet.keys():\n",
    "    tmpSubKey = dataSet[key]['keys'].copy().keys()\n",
    "    for subKey in tmpSubKey:\n",
    "        # if subKey in stopWords:\n",
    "        #     del dataSet[key]['keys'][subKey]\n",
    "        if subKey not in sentimentWords:\n",
    "            del dataSet[key]['keys'][subKey]\n",
    "        else:\n",
    "            dataSet[key]['count'] += dataSet[key]['keys'][subKey]\n",
    "            dataSet[key]['key_num'] += 1"
   ],
   "metadata": {
    "collapsed": false,
    "pycharm": {
     "name": "#%%\n"
    }
   }
  },
  {
   "cell_type": "markdown",
   "source": [
    "开始进行预测"
   ],
   "metadata": {
    "collapsed": false,
    "pycharm": {
     "name": "#%% md\n"
    }
   }
  },
  {
   "cell_type": "code",
   "execution_count": 5,
   "outputs": [],
   "source": [
    "import jieba\n",
    "import math\n",
    "\n",
    "\n",
    "# 定义计算公式\n",
    "def predict(s: str, trainedData: dict):\n",
    "    # seg, hidden = ltp.seg([str(s)])\n",
    "    # preWords = seg[0]\n",
    "    preWords = jieba.lcut(s, use_paddle=True)\n",
    "    preResult = {}\n",
    "    maxKey = None\n",
    "    # 避免数值过小 矫正\n",
    "    shiftNum = [trainedData[i]['count'] for i in trainedData.keys()][0] / len(trainedData.keys())\n",
    "    # 对于每一个情绪类别\n",
    "    for i in trainedData.keys():\n",
    "        # 该情绪类别下的预测值 初始化为10000 放大一点\n",
    "        preIValue = 1\n",
    "        cnt = 0\n",
    "        # 对于每一个预测句子中的词\n",
    "        for w in preWords:\n",
    "            # 如果不是停用词\n",
    "            # if w not in stopWords:\n",
    "            if w in sentimentWords:\n",
    "                cnt += 1\n",
    "                # 如果该情绪下有过这个词 直接计算\n",
    "                if trainedData[i]['keys'].__contains__(w):\n",
    "                    preIValue *= (trainedData[i]['keys'][w] + 1) * 1 / (\n",
    "                            trainedData[i]['count'] + trainedData[i]['key_num'])\n",
    "\n",
    "                # 该情绪下无这个词 默认为 1/kenLen\n",
    "                else:\n",
    "                    preIValue *= 1 / shiftNum\n",
    "                    # preIValue *= 1 / trainedData[i]['key_num']\n",
    "                    # preIValue *= 0.5\n",
    "            # preIValue = 1 / (1 + math.exp(-preIValue))\n",
    "        if cnt == 0:\n",
    "            return maxKey, preResult\n",
    "        preResult[i] = preIValue\n",
    "        if maxKey is None or preIValue > preResult[maxKey]:\n",
    "            maxKey = i\n",
    "    return maxKey, preResult\n",
    "\n",
    "# # 每计算1/10 test集合的句子 输出目前的准确度\n",
    "# testDataLen = len(testData)\n",
    "# preRightNum = 0\n",
    "#\n",
    "# precision = 0\n",
    "# recall = 0\n",
    "# f_measure = 0\n",
    "# for i in range(testDataLen):\n",
    "#     if i % (testDataLen // 10) == 0:\n",
    "#         pass"
   ],
   "metadata": {
    "collapsed": false,
    "pycharm": {
     "name": "#%%\n"
    }
   }
  },
  {
   "cell_type": "code",
   "execution_count": 6,
   "outputs": [
    {
     "name": "stdout",
     "output_type": "stream",
     "text": [
      "0.45569620253164556\n",
      "0.4409937888198758\n",
      "0.43333333333333335\n",
      "0.4444444444444444\n",
      "0.44029850746268656\n",
      "0.4451345755693582\n",
      "0.4376130198915009\n",
      "0.4464\n",
      "0.4507845934379458\n",
      "0.45302445302445304\n",
      "0.45838218053927315\n",
      "0.4536637931034483\n",
      "0.45779543197616684\n",
      "0.45\n",
      "0.44232437120555074\n",
      "0.4461538461538462\n",
      "0.4484848484848485\n",
      "0.4520743919885551\n",
      "0.45275322909585314\n",
      "0.4567741935483871\n",
      "0.456\n",
      "0.45368731563421827\n",
      "0.4535211267605634\n",
      "0.4540540540540541\n",
      "0.45809474232170744\n",
      "0.4625\n",
      "0.4634382566585956\n",
      "0.4630495790458372\n",
      "0.4624773960216998\n",
      "0.4595893403232853\n",
      "0.46104995766299744\n",
      "0.4633744855967078\n",
      "0.46255506607929514\n",
      "0.46153846153846156\n",
      "0.4624952883528081\n",
      "0.4630307467057101\n",
      "0.460634128963306\n",
      "0.46249567922571727\n",
      "0.4616161616161616\n",
      "0.4600197433366239\n",
      "0.4600064246707356\n",
      "0.45960389814523733\n",
      "0.458754983134008\n",
      "0.4591684116063416\n",
      "0.45760233918128657\n",
      "0.45685714285714285\n",
      "0.4579596412556054\n",
      "0.4574876577070762\n",
      "0.4567669172932331\n",
      "0.45643590418531194\n",
      "0.4566787003610108\n",
      "0.4582701062215478\n",
      "0.4599752168525403\n",
      "0.45940690325717065\n",
      "0.459995223310246\n",
      "0.4603286384976526\n",
      "0.45829493087557605\n",
      "0.4589755213055304\n",
      "0.45862145884452377\n",
      "0.4599165385460136\n",
      "0.45910861099091305\n",
      "0.46050670640834573\n",
      "0.4606835814636192\n",
      "0.4601897689768977\n",
      "0.46124188311688313\n",
      "0.4610623003194888\n",
      "0.45972495088408644\n",
      "0.45924491771539205\n",
      "0.45860358641739796\n",
      "0.45835683399135174\n",
      "0.45789376272441235\n",
      "0.4579149169253241\n",
      "0.45846098396107404\n",
      "0.45839260312944524\n",
      "0.4580995792426367\n",
      "0.4587298840629867\n",
      "0.4576068376068376\n",
      "0.4567380671276775\n",
      "0.4560119740562115\n",
      "0.4563505086970791\n",
      "0.45610625202461935\n",
      "0.4562609947225332\n",
      "0.4550339813497708\n",
      "0.4542330521711965\n",
      "0.4534219063803491\n",
      "0.4521154727356041\n",
      "0.45195353748680045\n",
      "0.4520507084265474\n",
      "0.4521174561015198\n",
      "0.45133518167226033\n",
      "0.45217140383783005\n",
      "0.451741861793261\n",
      "0.4518361581920904\n",
      "0.45226130653266333\n",
      "0.452134272689598\n",
      "0.45203229779663334\n",
      "0.4521680216802168\n",
      "0.45189856433650877\n",
      "0.4510090281465746\n",
      "0.4513413992635455\n",
      "0.45160031225604996\n",
      "0.45160458822013144\n",
      "0.45169112954690493\n",
      "0.4512010113780025\n",
      "0.45124091250940085\n",
      "0.4513845771762076\n",
      "0.452073335794266\n",
      "0.4525289457647776\n",
      "0.452240067624683\n",
      "0.4523695548109143\n",
      "0.4525729191368271\n",
      "0.45243974132863024\n",
      "0.45200372786579684\n",
      "0.451806533533418\n",
      "0.45094900525954723\n",
      "0.45154709282556954\n",
      "0.45238898257448007\n",
      "0.4525376464026771\n",
      "0.4521441202475685\n",
      "0.45254274441034636\n",
      "0.4523421367242691\n",
      "0.45295829291949563\n",
      "0.4535343813495883\n",
      "0.45410218359126564\n",
      "0.4540392898413699\n",
      "0.4541380029184907\n",
      "0.45396234223049864\n",
      "0.45410677618069817\n",
      "0.4536754225208715\n",
      "0.45342493433016773\n",
      "0.453588612670409\n",
      "0.45293532338308456\n",
      "0.452641975308642\n",
      "0.45303921568627453\n",
      "0.4534046692607004\n",
      "0.4537466203167246\n",
      "0.45291522823168395\n",
      "0.45309970479002\n",
      "0.45257683215130023\n",
      "0.4521062013322075\n",
      "0.45235211923614344\n",
      "0.4528144930215362\n",
      "0.4529357798165138\n",
      "0.4530210516722865\n",
      "0.4520857840919374\n",
      "0.451406994515868\n",
      "0.4508086855508891\n",
      "0.45118382548550146\n",
      "0.4516697506388228\n",
      "0.4514886164623468\n",
      "0.45098721405584064\n",
      "0.4511226252158895\n",
      "0.45144964831017326\n",
      "0.45114575347133484\n",
      "0.4511482077790018\n",
      "0.4506022066874421\n",
      "0.4506947932362297\n",
      "0.45053665030368584\n",
      "0.4505621693121693\n",
      "0.4502381343406142\n",
      "0.4511180022849682\n",
      "0.4513252816730161\n",
      "0.4510957138253303\n",
      "0.45016411816507884\n",
      "0.44998806397708285\n",
      "0.44924440224701323\n",
      "0.4492525570416995\n",
      "0.44951904277782123\n",
      "0.4500855232467734\n",
      "0.45088492155498877\n",
      "0.4501728774490972\n",
      "0.4500878331933094\n",
      "0.449825413693639\n",
      "0.4497358490566038\n",
      "0.4502138515795003\n",
      "0.4504699388333582\n",
      "0.45042303696007124\n",
      "0.45004799527431144\n",
      "0.4500807517251505\n",
      "0.4496316288569553\n",
      "0.4495426165238856\n"
     ]
    }
   ],
   "source": [
    "# tes\n",
    "num = 0\n",
    "delNum = 0\n",
    "cntNum = 0\n",
    "for i in testData:\n",
    "    cntNum += 1\n",
    "    if cntNum % 100 == 0:\n",
    "        print(num / (cntNum - delNum))\n",
    "    pi, pd = predict(i['sentence'], dataSet)\n",
    "    if pi is None:\n",
    "        delNum += 1\n",
    "        continue\n",
    "    if i['label'] == pi:\n",
    "        # print(i)\n",
    "        # print(pi, pd)\n",
    "        num += 1\n",
    "print(num / (len(testData) - delNum))\n"
   ],
   "metadata": {
    "collapsed": false,
    "pycharm": {
     "name": "#%%\n"
    }
   }
  },
  {
   "cell_type": "markdown",
   "source": [
    "test"
   ],
   "metadata": {
    "collapsed": false,
    "pycharm": {
     "name": "#%% md\n"
    }
   }
  }
 ],
 "metadata": {
  "kernelspec": {
   "display_name": "Python 3",
   "language": "python",
   "name": "python3"
  },
  "language_info": {
   "codemirror_mode": {
    "name": "ipython",
    "version": 2
   },
   "file_extension": ".py",
   "mimetype": "text/x-python",
   "name": "python",
   "nbconvert_exporter": "python",
   "pygments_lexer": "ipython2",
   "version": "2.7.6"
  }
 },
 "nbformat": 4,
 "nbformat_minor": 0
}